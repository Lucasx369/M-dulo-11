{
  "nbformat": 4,
  "nbformat_minor": 0,
  "metadata": {
    "colab": {
      "provenance": []
    },
    "kernelspec": {
      "name": "python3",
      "display_name": "Python 3"
    },
    "language_info": {
      "name": "python"
    }
  },
  "cells": [
    {
      "cell_type": "markdown",
      "source": [
        "# Introdução"
      ],
      "metadata": {
        "id": "hcE0CdpNHCgi"
      }
    },
    {
      "cell_type": "markdown",
      "source": [
        "Nesta atividade, está sendo utilizado o dataset `Credit Card Fraud Detection` para desenvolver um modelo com Keras, visando identificar fraudes em transações de cartões de crédito. O dataset possui 284,807 amostras e 30 features numéricas, resultantes de uma transformação PCA para anonimização. A tarefa é classificar as transações como fraudulentas (1) ou legítimas (0)."
      ],
      "metadata": {
        "id": "kBQqmFXYW0BD"
      }
    },
    {
      "cell_type": "markdown",
      "source": [
        "# 1) Setup"
      ],
      "metadata": {
        "id": "WXXiiCdUBLxx"
      }
    },
    {
      "cell_type": "markdown",
      "source": [
        "A configuração de setup é o processo de preparar e organizar o ambiente para uso. Envolvendo a instalação de bibliotecas e configuração de outros ajustes necessários. O objetivo é criar um ambiente funcional para executar tarefas específicas."
      ],
      "metadata": {
        "id": "EbLTvXofBRtM"
      }
    },
    {
      "cell_type": "markdown",
      "source": [
        "## 1.1) Instalação das bibliotecas"
      ],
      "metadata": {
        "id": "mI8G8RSiBWHx"
      }
    },
    {
      "cell_type": "code",
      "source": [
        "import pandas as pd"
      ],
      "metadata": {
        "id": "UBFvR5y1BPca"
      },
      "execution_count": 17,
      "outputs": []
    },
    {
      "cell_type": "code",
      "source": [
        "from tensorflow.keras.models import Sequential\n",
        "from tensorflow.keras.layers import Dense\n",
        "from tensorflow.keras.optimizers import Adam\n",
        "from tensorflow.keras.metrics import AUC, Accuracy\n",
        "from sklearn.model_selection import train_test_split\n",
        "from sklearn.preprocessing import StandardScaler\n",
        "from sklearn.metrics import f1_score, accuracy_score"
      ],
      "metadata": {
        "id": "wdz5i0NhHkyL"
      },
      "execution_count": 20,
      "outputs": []
    },
    {
      "cell_type": "markdown",
      "source": [
        "## 2.2) Leitura dos Dados"
      ],
      "metadata": {
        "id": "kS2byVMiG2N7"
      }
    },
    {
      "cell_type": "code",
      "source": [
        "BASE_CARTAO = pd.read_csv('/content/creditcard.csv')"
      ],
      "metadata": {
        "id": "ZnzCTKbTG4Y_"
      },
      "execution_count": 18,
      "outputs": []
    },
    {
      "cell_type": "code",
      "source": [
        "BASE_CARTAO"
      ],
      "metadata": {
        "colab": {
          "base_uri": "https://localhost:8080/",
          "height": 444
        },
        "id": "NuJZTOqVHNIe",
        "outputId": "95a23179-9cde-468b-fcda-c0a9d9c2e36e"
      },
      "execution_count": 19,
      "outputs": [
        {
          "output_type": "execute_result",
          "data": {
            "text/plain": [
              "         Time        V1        V2        V3        V4        V5        V6  \\\n",
              "0           0 -1.359807 -0.072781  2.536347  1.378155 -0.338321  0.462388   \n",
              "1           0  1.191857  0.266151  0.166480  0.448154  0.060018 -0.082361   \n",
              "2           1 -1.358354 -1.340163  1.773209  0.379780 -0.503198  1.800499   \n",
              "3           1 -0.966272 -0.185226  1.792993 -0.863291 -0.010309  1.247203   \n",
              "4           2 -1.158233  0.877737  1.548718  0.403034 -0.407193  0.095921   \n",
              "...       ...       ...       ...       ...       ...       ...       ...   \n",
              "124856  77448 -0.835868  0.673600  1.904021 -0.263201  0.351435  0.236937   \n",
              "124857  77448 -2.817937 -0.107162  0.402607 -0.980962  0.682698  0.980801   \n",
              "124858  77449 -1.262504  1.434804  0.290138 -0.436888  0.801078  0.380510   \n",
              "124859  77449  1.087845  0.522904  0.275704  2.474583  0.213114 -0.225345   \n",
              "124860  77449  1.181458 -0.125634  0.454633       NaN       NaN       NaN   \n",
              "\n",
              "              V7        V8        V9  ...       V21       V22       V23  \\\n",
              "0       0.239599  0.098698  0.363787  ... -0.018307  0.277838 -0.110474   \n",
              "1      -0.078803  0.085102 -0.255425  ... -0.225775 -0.638672  0.101288   \n",
              "2       0.791461  0.247676 -1.514654  ...  0.247998  0.771679  0.909412   \n",
              "3       0.237609  0.377436 -1.387024  ... -0.108300  0.005274 -0.190321   \n",
              "4       0.592941 -0.270533  0.817739  ... -0.009431  0.798278 -0.137458   \n",
              "...          ...       ...       ...  ...       ...       ...       ...   \n",
              "124856  0.223675  0.334808 -0.232802  ...  0.114441  0.182323 -0.105240   \n",
              "124857  0.117625  1.387942 -0.779965  ...  0.280573  0.323453 -0.374319   \n",
              "124858  0.399066  0.554237 -0.531654  ...  0.195197  0.383922 -0.281029   \n",
              "124859  0.389247 -0.100848 -0.960723  ...  0.007535 -0.054694 -0.061887   \n",
              "124860       NaN       NaN       NaN  ...       NaN       NaN       NaN   \n",
              "\n",
              "             V24       V25       V26       V27       V28  Amount  Class  \n",
              "0       0.066928  0.128539 -0.189115  0.133558 -0.021053  149.62    0.0  \n",
              "1      -0.339846  0.167170  0.125895 -0.008983  0.014724    2.69    0.0  \n",
              "2      -0.689281 -0.327642 -0.139097 -0.055353 -0.059752  378.66    0.0  \n",
              "3      -1.175575  0.647376 -0.221929  0.062723  0.061458  123.50    0.0  \n",
              "4       0.141267 -0.206010  0.502292  0.219422  0.215153   69.99    0.0  \n",
              "...          ...       ...       ...       ...       ...     ...    ...  \n",
              "124856 -0.357454 -0.357218 -0.704835  0.014996  0.144135    4.99    0.0  \n",
              "124857 -0.962394  0.422271  0.402743 -0.288024 -0.339470  115.00    0.0  \n",
              "124858 -1.152876  0.030816 -0.486364 -0.148485  0.121988    1.07    0.0  \n",
              "124859  0.083010  0.527815  0.030754 -0.017737  0.020217   45.95    0.0  \n",
              "124860       NaN       NaN       NaN       NaN       NaN     NaN    NaN  \n",
              "\n",
              "[124861 rows x 31 columns]"
            ],
            "text/html": [
              "\n",
              "  <div id=\"df-35daedd6-e297-4c9f-a35b-7c168f0d9a7f\" class=\"colab-df-container\">\n",
              "    <div>\n",
              "<style scoped>\n",
              "    .dataframe tbody tr th:only-of-type {\n",
              "        vertical-align: middle;\n",
              "    }\n",
              "\n",
              "    .dataframe tbody tr th {\n",
              "        vertical-align: top;\n",
              "    }\n",
              "\n",
              "    .dataframe thead th {\n",
              "        text-align: right;\n",
              "    }\n",
              "</style>\n",
              "<table border=\"1\" class=\"dataframe\">\n",
              "  <thead>\n",
              "    <tr style=\"text-align: right;\">\n",
              "      <th></th>\n",
              "      <th>Time</th>\n",
              "      <th>V1</th>\n",
              "      <th>V2</th>\n",
              "      <th>V3</th>\n",
              "      <th>V4</th>\n",
              "      <th>V5</th>\n",
              "      <th>V6</th>\n",
              "      <th>V7</th>\n",
              "      <th>V8</th>\n",
              "      <th>V9</th>\n",
              "      <th>...</th>\n",
              "      <th>V21</th>\n",
              "      <th>V22</th>\n",
              "      <th>V23</th>\n",
              "      <th>V24</th>\n",
              "      <th>V25</th>\n",
              "      <th>V26</th>\n",
              "      <th>V27</th>\n",
              "      <th>V28</th>\n",
              "      <th>Amount</th>\n",
              "      <th>Class</th>\n",
              "    </tr>\n",
              "  </thead>\n",
              "  <tbody>\n",
              "    <tr>\n",
              "      <th>0</th>\n",
              "      <td>0</td>\n",
              "      <td>-1.359807</td>\n",
              "      <td>-0.072781</td>\n",
              "      <td>2.536347</td>\n",
              "      <td>1.378155</td>\n",
              "      <td>-0.338321</td>\n",
              "      <td>0.462388</td>\n",
              "      <td>0.239599</td>\n",
              "      <td>0.098698</td>\n",
              "      <td>0.363787</td>\n",
              "      <td>...</td>\n",
              "      <td>-0.018307</td>\n",
              "      <td>0.277838</td>\n",
              "      <td>-0.110474</td>\n",
              "      <td>0.066928</td>\n",
              "      <td>0.128539</td>\n",
              "      <td>-0.189115</td>\n",
              "      <td>0.133558</td>\n",
              "      <td>-0.021053</td>\n",
              "      <td>149.62</td>\n",
              "      <td>0.0</td>\n",
              "    </tr>\n",
              "    <tr>\n",
              "      <th>1</th>\n",
              "      <td>0</td>\n",
              "      <td>1.191857</td>\n",
              "      <td>0.266151</td>\n",
              "      <td>0.166480</td>\n",
              "      <td>0.448154</td>\n",
              "      <td>0.060018</td>\n",
              "      <td>-0.082361</td>\n",
              "      <td>-0.078803</td>\n",
              "      <td>0.085102</td>\n",
              "      <td>-0.255425</td>\n",
              "      <td>...</td>\n",
              "      <td>-0.225775</td>\n",
              "      <td>-0.638672</td>\n",
              "      <td>0.101288</td>\n",
              "      <td>-0.339846</td>\n",
              "      <td>0.167170</td>\n",
              "      <td>0.125895</td>\n",
              "      <td>-0.008983</td>\n",
              "      <td>0.014724</td>\n",
              "      <td>2.69</td>\n",
              "      <td>0.0</td>\n",
              "    </tr>\n",
              "    <tr>\n",
              "      <th>2</th>\n",
              "      <td>1</td>\n",
              "      <td>-1.358354</td>\n",
              "      <td>-1.340163</td>\n",
              "      <td>1.773209</td>\n",
              "      <td>0.379780</td>\n",
              "      <td>-0.503198</td>\n",
              "      <td>1.800499</td>\n",
              "      <td>0.791461</td>\n",
              "      <td>0.247676</td>\n",
              "      <td>-1.514654</td>\n",
              "      <td>...</td>\n",
              "      <td>0.247998</td>\n",
              "      <td>0.771679</td>\n",
              "      <td>0.909412</td>\n",
              "      <td>-0.689281</td>\n",
              "      <td>-0.327642</td>\n",
              "      <td>-0.139097</td>\n",
              "      <td>-0.055353</td>\n",
              "      <td>-0.059752</td>\n",
              "      <td>378.66</td>\n",
              "      <td>0.0</td>\n",
              "    </tr>\n",
              "    <tr>\n",
              "      <th>3</th>\n",
              "      <td>1</td>\n",
              "      <td>-0.966272</td>\n",
              "      <td>-0.185226</td>\n",
              "      <td>1.792993</td>\n",
              "      <td>-0.863291</td>\n",
              "      <td>-0.010309</td>\n",
              "      <td>1.247203</td>\n",
              "      <td>0.237609</td>\n",
              "      <td>0.377436</td>\n",
              "      <td>-1.387024</td>\n",
              "      <td>...</td>\n",
              "      <td>-0.108300</td>\n",
              "      <td>0.005274</td>\n",
              "      <td>-0.190321</td>\n",
              "      <td>-1.175575</td>\n",
              "      <td>0.647376</td>\n",
              "      <td>-0.221929</td>\n",
              "      <td>0.062723</td>\n",
              "      <td>0.061458</td>\n",
              "      <td>123.50</td>\n",
              "      <td>0.0</td>\n",
              "    </tr>\n",
              "    <tr>\n",
              "      <th>4</th>\n",
              "      <td>2</td>\n",
              "      <td>-1.158233</td>\n",
              "      <td>0.877737</td>\n",
              "      <td>1.548718</td>\n",
              "      <td>0.403034</td>\n",
              "      <td>-0.407193</td>\n",
              "      <td>0.095921</td>\n",
              "      <td>0.592941</td>\n",
              "      <td>-0.270533</td>\n",
              "      <td>0.817739</td>\n",
              "      <td>...</td>\n",
              "      <td>-0.009431</td>\n",
              "      <td>0.798278</td>\n",
              "      <td>-0.137458</td>\n",
              "      <td>0.141267</td>\n",
              "      <td>-0.206010</td>\n",
              "      <td>0.502292</td>\n",
              "      <td>0.219422</td>\n",
              "      <td>0.215153</td>\n",
              "      <td>69.99</td>\n",
              "      <td>0.0</td>\n",
              "    </tr>\n",
              "    <tr>\n",
              "      <th>...</th>\n",
              "      <td>...</td>\n",
              "      <td>...</td>\n",
              "      <td>...</td>\n",
              "      <td>...</td>\n",
              "      <td>...</td>\n",
              "      <td>...</td>\n",
              "      <td>...</td>\n",
              "      <td>...</td>\n",
              "      <td>...</td>\n",
              "      <td>...</td>\n",
              "      <td>...</td>\n",
              "      <td>...</td>\n",
              "      <td>...</td>\n",
              "      <td>...</td>\n",
              "      <td>...</td>\n",
              "      <td>...</td>\n",
              "      <td>...</td>\n",
              "      <td>...</td>\n",
              "      <td>...</td>\n",
              "      <td>...</td>\n",
              "      <td>...</td>\n",
              "    </tr>\n",
              "    <tr>\n",
              "      <th>124856</th>\n",
              "      <td>77448</td>\n",
              "      <td>-0.835868</td>\n",
              "      <td>0.673600</td>\n",
              "      <td>1.904021</td>\n",
              "      <td>-0.263201</td>\n",
              "      <td>0.351435</td>\n",
              "      <td>0.236937</td>\n",
              "      <td>0.223675</td>\n",
              "      <td>0.334808</td>\n",
              "      <td>-0.232802</td>\n",
              "      <td>...</td>\n",
              "      <td>0.114441</td>\n",
              "      <td>0.182323</td>\n",
              "      <td>-0.105240</td>\n",
              "      <td>-0.357454</td>\n",
              "      <td>-0.357218</td>\n",
              "      <td>-0.704835</td>\n",
              "      <td>0.014996</td>\n",
              "      <td>0.144135</td>\n",
              "      <td>4.99</td>\n",
              "      <td>0.0</td>\n",
              "    </tr>\n",
              "    <tr>\n",
              "      <th>124857</th>\n",
              "      <td>77448</td>\n",
              "      <td>-2.817937</td>\n",
              "      <td>-0.107162</td>\n",
              "      <td>0.402607</td>\n",
              "      <td>-0.980962</td>\n",
              "      <td>0.682698</td>\n",
              "      <td>0.980801</td>\n",
              "      <td>0.117625</td>\n",
              "      <td>1.387942</td>\n",
              "      <td>-0.779965</td>\n",
              "      <td>...</td>\n",
              "      <td>0.280573</td>\n",
              "      <td>0.323453</td>\n",
              "      <td>-0.374319</td>\n",
              "      <td>-0.962394</td>\n",
              "      <td>0.422271</td>\n",
              "      <td>0.402743</td>\n",
              "      <td>-0.288024</td>\n",
              "      <td>-0.339470</td>\n",
              "      <td>115.00</td>\n",
              "      <td>0.0</td>\n",
              "    </tr>\n",
              "    <tr>\n",
              "      <th>124858</th>\n",
              "      <td>77449</td>\n",
              "      <td>-1.262504</td>\n",
              "      <td>1.434804</td>\n",
              "      <td>0.290138</td>\n",
              "      <td>-0.436888</td>\n",
              "      <td>0.801078</td>\n",
              "      <td>0.380510</td>\n",
              "      <td>0.399066</td>\n",
              "      <td>0.554237</td>\n",
              "      <td>-0.531654</td>\n",
              "      <td>...</td>\n",
              "      <td>0.195197</td>\n",
              "      <td>0.383922</td>\n",
              "      <td>-0.281029</td>\n",
              "      <td>-1.152876</td>\n",
              "      <td>0.030816</td>\n",
              "      <td>-0.486364</td>\n",
              "      <td>-0.148485</td>\n",
              "      <td>0.121988</td>\n",
              "      <td>1.07</td>\n",
              "      <td>0.0</td>\n",
              "    </tr>\n",
              "    <tr>\n",
              "      <th>124859</th>\n",
              "      <td>77449</td>\n",
              "      <td>1.087845</td>\n",
              "      <td>0.522904</td>\n",
              "      <td>0.275704</td>\n",
              "      <td>2.474583</td>\n",
              "      <td>0.213114</td>\n",
              "      <td>-0.225345</td>\n",
              "      <td>0.389247</td>\n",
              "      <td>-0.100848</td>\n",
              "      <td>-0.960723</td>\n",
              "      <td>...</td>\n",
              "      <td>0.007535</td>\n",
              "      <td>-0.054694</td>\n",
              "      <td>-0.061887</td>\n",
              "      <td>0.083010</td>\n",
              "      <td>0.527815</td>\n",
              "      <td>0.030754</td>\n",
              "      <td>-0.017737</td>\n",
              "      <td>0.020217</td>\n",
              "      <td>45.95</td>\n",
              "      <td>0.0</td>\n",
              "    </tr>\n",
              "    <tr>\n",
              "      <th>124860</th>\n",
              "      <td>77449</td>\n",
              "      <td>1.181458</td>\n",
              "      <td>-0.125634</td>\n",
              "      <td>0.454633</td>\n",
              "      <td>NaN</td>\n",
              "      <td>NaN</td>\n",
              "      <td>NaN</td>\n",
              "      <td>NaN</td>\n",
              "      <td>NaN</td>\n",
              "      <td>NaN</td>\n",
              "      <td>...</td>\n",
              "      <td>NaN</td>\n",
              "      <td>NaN</td>\n",
              "      <td>NaN</td>\n",
              "      <td>NaN</td>\n",
              "      <td>NaN</td>\n",
              "      <td>NaN</td>\n",
              "      <td>NaN</td>\n",
              "      <td>NaN</td>\n",
              "      <td>NaN</td>\n",
              "      <td>NaN</td>\n",
              "    </tr>\n",
              "  </tbody>\n",
              "</table>\n",
              "<p>124861 rows × 31 columns</p>\n",
              "</div>\n",
              "    <div class=\"colab-df-buttons\">\n",
              "\n",
              "  <div class=\"colab-df-container\">\n",
              "    <button class=\"colab-df-convert\" onclick=\"convertToInteractive('df-35daedd6-e297-4c9f-a35b-7c168f0d9a7f')\"\n",
              "            title=\"Convert this dataframe to an interactive table.\"\n",
              "            style=\"display:none;\">\n",
              "\n",
              "  <svg xmlns=\"http://www.w3.org/2000/svg\" height=\"24px\" viewBox=\"0 -960 960 960\">\n",
              "    <path d=\"M120-120v-720h720v720H120Zm60-500h600v-160H180v160Zm220 220h160v-160H400v160Zm0 220h160v-160H400v160ZM180-400h160v-160H180v160Zm440 0h160v-160H620v160ZM180-180h160v-160H180v160Zm440 0h160v-160H620v160Z\"/>\n",
              "  </svg>\n",
              "    </button>\n",
              "\n",
              "  <style>\n",
              "    .colab-df-container {\n",
              "      display:flex;\n",
              "      gap: 12px;\n",
              "    }\n",
              "\n",
              "    .colab-df-convert {\n",
              "      background-color: #E8F0FE;\n",
              "      border: none;\n",
              "      border-radius: 50%;\n",
              "      cursor: pointer;\n",
              "      display: none;\n",
              "      fill: #1967D2;\n",
              "      height: 32px;\n",
              "      padding: 0 0 0 0;\n",
              "      width: 32px;\n",
              "    }\n",
              "\n",
              "    .colab-df-convert:hover {\n",
              "      background-color: #E2EBFA;\n",
              "      box-shadow: 0px 1px 2px rgba(60, 64, 67, 0.3), 0px 1px 3px 1px rgba(60, 64, 67, 0.15);\n",
              "      fill: #174EA6;\n",
              "    }\n",
              "\n",
              "    .colab-df-buttons div {\n",
              "      margin-bottom: 4px;\n",
              "    }\n",
              "\n",
              "    [theme=dark] .colab-df-convert {\n",
              "      background-color: #3B4455;\n",
              "      fill: #D2E3FC;\n",
              "    }\n",
              "\n",
              "    [theme=dark] .colab-df-convert:hover {\n",
              "      background-color: #434B5C;\n",
              "      box-shadow: 0px 1px 3px 1px rgba(0, 0, 0, 0.15);\n",
              "      filter: drop-shadow(0px 1px 2px rgba(0, 0, 0, 0.3));\n",
              "      fill: #FFFFFF;\n",
              "    }\n",
              "  </style>\n",
              "\n",
              "    <script>\n",
              "      const buttonEl =\n",
              "        document.querySelector('#df-35daedd6-e297-4c9f-a35b-7c168f0d9a7f button.colab-df-convert');\n",
              "      buttonEl.style.display =\n",
              "        google.colab.kernel.accessAllowed ? 'block' : 'none';\n",
              "\n",
              "      async function convertToInteractive(key) {\n",
              "        const element = document.querySelector('#df-35daedd6-e297-4c9f-a35b-7c168f0d9a7f');\n",
              "        const dataTable =\n",
              "          await google.colab.kernel.invokeFunction('convertToInteractive',\n",
              "                                                    [key], {});\n",
              "        if (!dataTable) return;\n",
              "\n",
              "        const docLinkHtml = 'Like what you see? Visit the ' +\n",
              "          '<a target=\"_blank\" href=https://colab.research.google.com/notebooks/data_table.ipynb>data table notebook</a>'\n",
              "          + ' to learn more about interactive tables.';\n",
              "        element.innerHTML = '';\n",
              "        dataTable['output_type'] = 'display_data';\n",
              "        await google.colab.output.renderOutput(dataTable, element);\n",
              "        const docLink = document.createElement('div');\n",
              "        docLink.innerHTML = docLinkHtml;\n",
              "        element.appendChild(docLink);\n",
              "      }\n",
              "    </script>\n",
              "  </div>\n",
              "\n",
              "\n",
              "<div id=\"df-6d2193f8-fdf9-4075-8a42-7852f3509ac7\">\n",
              "  <button class=\"colab-df-quickchart\" onclick=\"quickchart('df-6d2193f8-fdf9-4075-8a42-7852f3509ac7')\"\n",
              "            title=\"Suggest charts\"\n",
              "            style=\"display:none;\">\n",
              "\n",
              "<svg xmlns=\"http://www.w3.org/2000/svg\" height=\"24px\"viewBox=\"0 0 24 24\"\n",
              "     width=\"24px\">\n",
              "    <g>\n",
              "        <path d=\"M19 3H5c-1.1 0-2 .9-2 2v14c0 1.1.9 2 2 2h14c1.1 0 2-.9 2-2V5c0-1.1-.9-2-2-2zM9 17H7v-7h2v7zm4 0h-2V7h2v10zm4 0h-2v-4h2v4z\"/>\n",
              "    </g>\n",
              "</svg>\n",
              "  </button>\n",
              "\n",
              "<style>\n",
              "  .colab-df-quickchart {\n",
              "      --bg-color: #E8F0FE;\n",
              "      --fill-color: #1967D2;\n",
              "      --hover-bg-color: #E2EBFA;\n",
              "      --hover-fill-color: #174EA6;\n",
              "      --disabled-fill-color: #AAA;\n",
              "      --disabled-bg-color: #DDD;\n",
              "  }\n",
              "\n",
              "  [theme=dark] .colab-df-quickchart {\n",
              "      --bg-color: #3B4455;\n",
              "      --fill-color: #D2E3FC;\n",
              "      --hover-bg-color: #434B5C;\n",
              "      --hover-fill-color: #FFFFFF;\n",
              "      --disabled-bg-color: #3B4455;\n",
              "      --disabled-fill-color: #666;\n",
              "  }\n",
              "\n",
              "  .colab-df-quickchart {\n",
              "    background-color: var(--bg-color);\n",
              "    border: none;\n",
              "    border-radius: 50%;\n",
              "    cursor: pointer;\n",
              "    display: none;\n",
              "    fill: var(--fill-color);\n",
              "    height: 32px;\n",
              "    padding: 0;\n",
              "    width: 32px;\n",
              "  }\n",
              "\n",
              "  .colab-df-quickchart:hover {\n",
              "    background-color: var(--hover-bg-color);\n",
              "    box-shadow: 0 1px 2px rgba(60, 64, 67, 0.3), 0 1px 3px 1px rgba(60, 64, 67, 0.15);\n",
              "    fill: var(--button-hover-fill-color);\n",
              "  }\n",
              "\n",
              "  .colab-df-quickchart-complete:disabled,\n",
              "  .colab-df-quickchart-complete:disabled:hover {\n",
              "    background-color: var(--disabled-bg-color);\n",
              "    fill: var(--disabled-fill-color);\n",
              "    box-shadow: none;\n",
              "  }\n",
              "\n",
              "  .colab-df-spinner {\n",
              "    border: 2px solid var(--fill-color);\n",
              "    border-color: transparent;\n",
              "    border-bottom-color: var(--fill-color);\n",
              "    animation:\n",
              "      spin 1s steps(1) infinite;\n",
              "  }\n",
              "\n",
              "  @keyframes spin {\n",
              "    0% {\n",
              "      border-color: transparent;\n",
              "      border-bottom-color: var(--fill-color);\n",
              "      border-left-color: var(--fill-color);\n",
              "    }\n",
              "    20% {\n",
              "      border-color: transparent;\n",
              "      border-left-color: var(--fill-color);\n",
              "      border-top-color: var(--fill-color);\n",
              "    }\n",
              "    30% {\n",
              "      border-color: transparent;\n",
              "      border-left-color: var(--fill-color);\n",
              "      border-top-color: var(--fill-color);\n",
              "      border-right-color: var(--fill-color);\n",
              "    }\n",
              "    40% {\n",
              "      border-color: transparent;\n",
              "      border-right-color: var(--fill-color);\n",
              "      border-top-color: var(--fill-color);\n",
              "    }\n",
              "    60% {\n",
              "      border-color: transparent;\n",
              "      border-right-color: var(--fill-color);\n",
              "    }\n",
              "    80% {\n",
              "      border-color: transparent;\n",
              "      border-right-color: var(--fill-color);\n",
              "      border-bottom-color: var(--fill-color);\n",
              "    }\n",
              "    90% {\n",
              "      border-color: transparent;\n",
              "      border-bottom-color: var(--fill-color);\n",
              "    }\n",
              "  }\n",
              "</style>\n",
              "\n",
              "  <script>\n",
              "    async function quickchart(key) {\n",
              "      const quickchartButtonEl =\n",
              "        document.querySelector('#' + key + ' button');\n",
              "      quickchartButtonEl.disabled = true;  // To prevent multiple clicks.\n",
              "      quickchartButtonEl.classList.add('colab-df-spinner');\n",
              "      try {\n",
              "        const charts = await google.colab.kernel.invokeFunction(\n",
              "            'suggestCharts', [key], {});\n",
              "      } catch (error) {\n",
              "        console.error('Error during call to suggestCharts:', error);\n",
              "      }\n",
              "      quickchartButtonEl.classList.remove('colab-df-spinner');\n",
              "      quickchartButtonEl.classList.add('colab-df-quickchart-complete');\n",
              "    }\n",
              "    (() => {\n",
              "      let quickchartButtonEl =\n",
              "        document.querySelector('#df-6d2193f8-fdf9-4075-8a42-7852f3509ac7 button');\n",
              "      quickchartButtonEl.style.display =\n",
              "        google.colab.kernel.accessAllowed ? 'block' : 'none';\n",
              "    })();\n",
              "  </script>\n",
              "</div>\n",
              "\n",
              "  <div id=\"id_3c7043d7-0166-432a-b125-34f0b3e4e20c\">\n",
              "    <style>\n",
              "      .colab-df-generate {\n",
              "        background-color: #E8F0FE;\n",
              "        border: none;\n",
              "        border-radius: 50%;\n",
              "        cursor: pointer;\n",
              "        display: none;\n",
              "        fill: #1967D2;\n",
              "        height: 32px;\n",
              "        padding: 0 0 0 0;\n",
              "        width: 32px;\n",
              "      }\n",
              "\n",
              "      .colab-df-generate:hover {\n",
              "        background-color: #E2EBFA;\n",
              "        box-shadow: 0px 1px 2px rgba(60, 64, 67, 0.3), 0px 1px 3px 1px rgba(60, 64, 67, 0.15);\n",
              "        fill: #174EA6;\n",
              "      }\n",
              "\n",
              "      [theme=dark] .colab-df-generate {\n",
              "        background-color: #3B4455;\n",
              "        fill: #D2E3FC;\n",
              "      }\n",
              "\n",
              "      [theme=dark] .colab-df-generate:hover {\n",
              "        background-color: #434B5C;\n",
              "        box-shadow: 0px 1px 3px 1px rgba(0, 0, 0, 0.15);\n",
              "        filter: drop-shadow(0px 1px 2px rgba(0, 0, 0, 0.3));\n",
              "        fill: #FFFFFF;\n",
              "      }\n",
              "    </style>\n",
              "    <button class=\"colab-df-generate\" onclick=\"generateWithVariable('BASE_CARTAO')\"\n",
              "            title=\"Generate code using this dataframe.\"\n",
              "            style=\"display:none;\">\n",
              "\n",
              "  <svg xmlns=\"http://www.w3.org/2000/svg\" height=\"24px\"viewBox=\"0 0 24 24\"\n",
              "       width=\"24px\">\n",
              "    <path d=\"M7,19H8.4L18.45,9,17,7.55,7,17.6ZM5,21V16.75L18.45,3.32a2,2,0,0,1,2.83,0l1.4,1.43a1.91,1.91,0,0,1,.58,1.4,1.91,1.91,0,0,1-.58,1.4L9.25,21ZM18.45,9,17,7.55Zm-12,3A5.31,5.31,0,0,0,4.9,8.1,5.31,5.31,0,0,0,1,6.5,5.31,5.31,0,0,0,4.9,4.9,5.31,5.31,0,0,0,6.5,1,5.31,5.31,0,0,0,8.1,4.9,5.31,5.31,0,0,0,12,6.5,5.46,5.46,0,0,0,6.5,12Z\"/>\n",
              "  </svg>\n",
              "    </button>\n",
              "    <script>\n",
              "      (() => {\n",
              "      const buttonEl =\n",
              "        document.querySelector('#id_3c7043d7-0166-432a-b125-34f0b3e4e20c button.colab-df-generate');\n",
              "      buttonEl.style.display =\n",
              "        google.colab.kernel.accessAllowed ? 'block' : 'none';\n",
              "\n",
              "      buttonEl.onclick = () => {\n",
              "        google.colab.notebook.generateWithVariable('BASE_CARTAO');\n",
              "      }\n",
              "      })();\n",
              "    </script>\n",
              "  </div>\n",
              "\n",
              "    </div>\n",
              "  </div>\n"
            ],
            "application/vnd.google.colaboratory.intrinsic+json": {
              "type": "dataframe",
              "variable_name": "BASE_CARTAO"
            }
          },
          "metadata": {},
          "execution_count": 19
        }
      ]
    },
    {
      "cell_type": "markdown",
      "source": [
        "## 2.3) Exploração da Base"
      ],
      "metadata": {
        "id": "9cUOEwgoHL8d"
      }
    },
    {
      "cell_type": "markdown",
      "source": [
        "*   **Número de Amostras**: 284,807 transações.\n",
        "*   **Número de Features**: 30, que incluem features numéricas resultantes de uma transformação PCA para anonimização dos dados. A feature \"Class\" é o rótulo alvo, onde 1 indica uma transação fraudulenta e 0 uma transação legítima.\n",
        "*   **Tarefa de Classificação**: Prever se uma transação de cartão de crédito é fraudulenta (1) ou legítima (0).\n"
      ],
      "metadata": {
        "id": "Uog2m535JK_v"
      }
    },
    {
      "cell_type": "code",
      "source": [
        "BASE_CARTAO = BASE_CARTAO.dropna()"
      ],
      "metadata": {
        "id": "cEioeEY6LXvy"
      },
      "execution_count": 37,
      "outputs": []
    },
    {
      "cell_type": "code",
      "source": [
        "BASE_CARTAO.head()"
      ],
      "metadata": {
        "colab": {
          "base_uri": "https://localhost:8080/",
          "height": 256
        },
        "id": "S98175AMI2pe",
        "outputId": "00b4e3d1-c3e6-471a-8d35-7f2e98c915b4"
      },
      "execution_count": 24,
      "outputs": [
        {
          "output_type": "execute_result",
          "data": {
            "text/plain": [
              "   Time        V1        V2        V3        V4        V5        V6        V7  \\\n",
              "0     0 -1.359807 -0.072781  2.536347  1.378155 -0.338321  0.462388  0.239599   \n",
              "1     0  1.191857  0.266151  0.166480  0.448154  0.060018 -0.082361 -0.078803   \n",
              "2     1 -1.358354 -1.340163  1.773209  0.379780 -0.503198  1.800499  0.791461   \n",
              "3     1 -0.966272 -0.185226  1.792993 -0.863291 -0.010309  1.247203  0.237609   \n",
              "4     2 -1.158233  0.877737  1.548718  0.403034 -0.407193  0.095921  0.592941   \n",
              "\n",
              "         V8        V9  ...       V21       V22       V23       V24       V25  \\\n",
              "0  0.098698  0.363787  ... -0.018307  0.277838 -0.110474  0.066928  0.128539   \n",
              "1  0.085102 -0.255425  ... -0.225775 -0.638672  0.101288 -0.339846  0.167170   \n",
              "2  0.247676 -1.514654  ...  0.247998  0.771679  0.909412 -0.689281 -0.327642   \n",
              "3  0.377436 -1.387024  ... -0.108300  0.005274 -0.190321 -1.175575  0.647376   \n",
              "4 -0.270533  0.817739  ... -0.009431  0.798278 -0.137458  0.141267 -0.206010   \n",
              "\n",
              "        V26       V27       V28  Amount  Class  \n",
              "0 -0.189115  0.133558 -0.021053  149.62    0.0  \n",
              "1  0.125895 -0.008983  0.014724    2.69    0.0  \n",
              "2 -0.139097 -0.055353 -0.059752  378.66    0.0  \n",
              "3 -0.221929  0.062723  0.061458  123.50    0.0  \n",
              "4  0.502292  0.219422  0.215153   69.99    0.0  \n",
              "\n",
              "[5 rows x 31 columns]"
            ],
            "text/html": [
              "\n",
              "  <div id=\"df-6f9909b9-b5d1-4b87-b6c5-327900d4ba83\" class=\"colab-df-container\">\n",
              "    <div>\n",
              "<style scoped>\n",
              "    .dataframe tbody tr th:only-of-type {\n",
              "        vertical-align: middle;\n",
              "    }\n",
              "\n",
              "    .dataframe tbody tr th {\n",
              "        vertical-align: top;\n",
              "    }\n",
              "\n",
              "    .dataframe thead th {\n",
              "        text-align: right;\n",
              "    }\n",
              "</style>\n",
              "<table border=\"1\" class=\"dataframe\">\n",
              "  <thead>\n",
              "    <tr style=\"text-align: right;\">\n",
              "      <th></th>\n",
              "      <th>Time</th>\n",
              "      <th>V1</th>\n",
              "      <th>V2</th>\n",
              "      <th>V3</th>\n",
              "      <th>V4</th>\n",
              "      <th>V5</th>\n",
              "      <th>V6</th>\n",
              "      <th>V7</th>\n",
              "      <th>V8</th>\n",
              "      <th>V9</th>\n",
              "      <th>...</th>\n",
              "      <th>V21</th>\n",
              "      <th>V22</th>\n",
              "      <th>V23</th>\n",
              "      <th>V24</th>\n",
              "      <th>V25</th>\n",
              "      <th>V26</th>\n",
              "      <th>V27</th>\n",
              "      <th>V28</th>\n",
              "      <th>Amount</th>\n",
              "      <th>Class</th>\n",
              "    </tr>\n",
              "  </thead>\n",
              "  <tbody>\n",
              "    <tr>\n",
              "      <th>0</th>\n",
              "      <td>0</td>\n",
              "      <td>-1.359807</td>\n",
              "      <td>-0.072781</td>\n",
              "      <td>2.536347</td>\n",
              "      <td>1.378155</td>\n",
              "      <td>-0.338321</td>\n",
              "      <td>0.462388</td>\n",
              "      <td>0.239599</td>\n",
              "      <td>0.098698</td>\n",
              "      <td>0.363787</td>\n",
              "      <td>...</td>\n",
              "      <td>-0.018307</td>\n",
              "      <td>0.277838</td>\n",
              "      <td>-0.110474</td>\n",
              "      <td>0.066928</td>\n",
              "      <td>0.128539</td>\n",
              "      <td>-0.189115</td>\n",
              "      <td>0.133558</td>\n",
              "      <td>-0.021053</td>\n",
              "      <td>149.62</td>\n",
              "      <td>0.0</td>\n",
              "    </tr>\n",
              "    <tr>\n",
              "      <th>1</th>\n",
              "      <td>0</td>\n",
              "      <td>1.191857</td>\n",
              "      <td>0.266151</td>\n",
              "      <td>0.166480</td>\n",
              "      <td>0.448154</td>\n",
              "      <td>0.060018</td>\n",
              "      <td>-0.082361</td>\n",
              "      <td>-0.078803</td>\n",
              "      <td>0.085102</td>\n",
              "      <td>-0.255425</td>\n",
              "      <td>...</td>\n",
              "      <td>-0.225775</td>\n",
              "      <td>-0.638672</td>\n",
              "      <td>0.101288</td>\n",
              "      <td>-0.339846</td>\n",
              "      <td>0.167170</td>\n",
              "      <td>0.125895</td>\n",
              "      <td>-0.008983</td>\n",
              "      <td>0.014724</td>\n",
              "      <td>2.69</td>\n",
              "      <td>0.0</td>\n",
              "    </tr>\n",
              "    <tr>\n",
              "      <th>2</th>\n",
              "      <td>1</td>\n",
              "      <td>-1.358354</td>\n",
              "      <td>-1.340163</td>\n",
              "      <td>1.773209</td>\n",
              "      <td>0.379780</td>\n",
              "      <td>-0.503198</td>\n",
              "      <td>1.800499</td>\n",
              "      <td>0.791461</td>\n",
              "      <td>0.247676</td>\n",
              "      <td>-1.514654</td>\n",
              "      <td>...</td>\n",
              "      <td>0.247998</td>\n",
              "      <td>0.771679</td>\n",
              "      <td>0.909412</td>\n",
              "      <td>-0.689281</td>\n",
              "      <td>-0.327642</td>\n",
              "      <td>-0.139097</td>\n",
              "      <td>-0.055353</td>\n",
              "      <td>-0.059752</td>\n",
              "      <td>378.66</td>\n",
              "      <td>0.0</td>\n",
              "    </tr>\n",
              "    <tr>\n",
              "      <th>3</th>\n",
              "      <td>1</td>\n",
              "      <td>-0.966272</td>\n",
              "      <td>-0.185226</td>\n",
              "      <td>1.792993</td>\n",
              "      <td>-0.863291</td>\n",
              "      <td>-0.010309</td>\n",
              "      <td>1.247203</td>\n",
              "      <td>0.237609</td>\n",
              "      <td>0.377436</td>\n",
              "      <td>-1.387024</td>\n",
              "      <td>...</td>\n",
              "      <td>-0.108300</td>\n",
              "      <td>0.005274</td>\n",
              "      <td>-0.190321</td>\n",
              "      <td>-1.175575</td>\n",
              "      <td>0.647376</td>\n",
              "      <td>-0.221929</td>\n",
              "      <td>0.062723</td>\n",
              "      <td>0.061458</td>\n",
              "      <td>123.50</td>\n",
              "      <td>0.0</td>\n",
              "    </tr>\n",
              "    <tr>\n",
              "      <th>4</th>\n",
              "      <td>2</td>\n",
              "      <td>-1.158233</td>\n",
              "      <td>0.877737</td>\n",
              "      <td>1.548718</td>\n",
              "      <td>0.403034</td>\n",
              "      <td>-0.407193</td>\n",
              "      <td>0.095921</td>\n",
              "      <td>0.592941</td>\n",
              "      <td>-0.270533</td>\n",
              "      <td>0.817739</td>\n",
              "      <td>...</td>\n",
              "      <td>-0.009431</td>\n",
              "      <td>0.798278</td>\n",
              "      <td>-0.137458</td>\n",
              "      <td>0.141267</td>\n",
              "      <td>-0.206010</td>\n",
              "      <td>0.502292</td>\n",
              "      <td>0.219422</td>\n",
              "      <td>0.215153</td>\n",
              "      <td>69.99</td>\n",
              "      <td>0.0</td>\n",
              "    </tr>\n",
              "  </tbody>\n",
              "</table>\n",
              "<p>5 rows × 31 columns</p>\n",
              "</div>\n",
              "    <div class=\"colab-df-buttons\">\n",
              "\n",
              "  <div class=\"colab-df-container\">\n",
              "    <button class=\"colab-df-convert\" onclick=\"convertToInteractive('df-6f9909b9-b5d1-4b87-b6c5-327900d4ba83')\"\n",
              "            title=\"Convert this dataframe to an interactive table.\"\n",
              "            style=\"display:none;\">\n",
              "\n",
              "  <svg xmlns=\"http://www.w3.org/2000/svg\" height=\"24px\" viewBox=\"0 -960 960 960\">\n",
              "    <path d=\"M120-120v-720h720v720H120Zm60-500h600v-160H180v160Zm220 220h160v-160H400v160Zm0 220h160v-160H400v160ZM180-400h160v-160H180v160Zm440 0h160v-160H620v160ZM180-180h160v-160H180v160Zm440 0h160v-160H620v160Z\"/>\n",
              "  </svg>\n",
              "    </button>\n",
              "\n",
              "  <style>\n",
              "    .colab-df-container {\n",
              "      display:flex;\n",
              "      gap: 12px;\n",
              "    }\n",
              "\n",
              "    .colab-df-convert {\n",
              "      background-color: #E8F0FE;\n",
              "      border: none;\n",
              "      border-radius: 50%;\n",
              "      cursor: pointer;\n",
              "      display: none;\n",
              "      fill: #1967D2;\n",
              "      height: 32px;\n",
              "      padding: 0 0 0 0;\n",
              "      width: 32px;\n",
              "    }\n",
              "\n",
              "    .colab-df-convert:hover {\n",
              "      background-color: #E2EBFA;\n",
              "      box-shadow: 0px 1px 2px rgba(60, 64, 67, 0.3), 0px 1px 3px 1px rgba(60, 64, 67, 0.15);\n",
              "      fill: #174EA6;\n",
              "    }\n",
              "\n",
              "    .colab-df-buttons div {\n",
              "      margin-bottom: 4px;\n",
              "    }\n",
              "\n",
              "    [theme=dark] .colab-df-convert {\n",
              "      background-color: #3B4455;\n",
              "      fill: #D2E3FC;\n",
              "    }\n",
              "\n",
              "    [theme=dark] .colab-df-convert:hover {\n",
              "      background-color: #434B5C;\n",
              "      box-shadow: 0px 1px 3px 1px rgba(0, 0, 0, 0.15);\n",
              "      filter: drop-shadow(0px 1px 2px rgba(0, 0, 0, 0.3));\n",
              "      fill: #FFFFFF;\n",
              "    }\n",
              "  </style>\n",
              "\n",
              "    <script>\n",
              "      const buttonEl =\n",
              "        document.querySelector('#df-6f9909b9-b5d1-4b87-b6c5-327900d4ba83 button.colab-df-convert');\n",
              "      buttonEl.style.display =\n",
              "        google.colab.kernel.accessAllowed ? 'block' : 'none';\n",
              "\n",
              "      async function convertToInteractive(key) {\n",
              "        const element = document.querySelector('#df-6f9909b9-b5d1-4b87-b6c5-327900d4ba83');\n",
              "        const dataTable =\n",
              "          await google.colab.kernel.invokeFunction('convertToInteractive',\n",
              "                                                    [key], {});\n",
              "        if (!dataTable) return;\n",
              "\n",
              "        const docLinkHtml = 'Like what you see? Visit the ' +\n",
              "          '<a target=\"_blank\" href=https://colab.research.google.com/notebooks/data_table.ipynb>data table notebook</a>'\n",
              "          + ' to learn more about interactive tables.';\n",
              "        element.innerHTML = '';\n",
              "        dataTable['output_type'] = 'display_data';\n",
              "        await google.colab.output.renderOutput(dataTable, element);\n",
              "        const docLink = document.createElement('div');\n",
              "        docLink.innerHTML = docLinkHtml;\n",
              "        element.appendChild(docLink);\n",
              "      }\n",
              "    </script>\n",
              "  </div>\n",
              "\n",
              "\n",
              "<div id=\"df-7b132b05-86be-4cab-9324-54d35e96d859\">\n",
              "  <button class=\"colab-df-quickchart\" onclick=\"quickchart('df-7b132b05-86be-4cab-9324-54d35e96d859')\"\n",
              "            title=\"Suggest charts\"\n",
              "            style=\"display:none;\">\n",
              "\n",
              "<svg xmlns=\"http://www.w3.org/2000/svg\" height=\"24px\"viewBox=\"0 0 24 24\"\n",
              "     width=\"24px\">\n",
              "    <g>\n",
              "        <path d=\"M19 3H5c-1.1 0-2 .9-2 2v14c0 1.1.9 2 2 2h14c1.1 0 2-.9 2-2V5c0-1.1-.9-2-2-2zM9 17H7v-7h2v7zm4 0h-2V7h2v10zm4 0h-2v-4h2v4z\"/>\n",
              "    </g>\n",
              "</svg>\n",
              "  </button>\n",
              "\n",
              "<style>\n",
              "  .colab-df-quickchart {\n",
              "      --bg-color: #E8F0FE;\n",
              "      --fill-color: #1967D2;\n",
              "      --hover-bg-color: #E2EBFA;\n",
              "      --hover-fill-color: #174EA6;\n",
              "      --disabled-fill-color: #AAA;\n",
              "      --disabled-bg-color: #DDD;\n",
              "  }\n",
              "\n",
              "  [theme=dark] .colab-df-quickchart {\n",
              "      --bg-color: #3B4455;\n",
              "      --fill-color: #D2E3FC;\n",
              "      --hover-bg-color: #434B5C;\n",
              "      --hover-fill-color: #FFFFFF;\n",
              "      --disabled-bg-color: #3B4455;\n",
              "      --disabled-fill-color: #666;\n",
              "  }\n",
              "\n",
              "  .colab-df-quickchart {\n",
              "    background-color: var(--bg-color);\n",
              "    border: none;\n",
              "    border-radius: 50%;\n",
              "    cursor: pointer;\n",
              "    display: none;\n",
              "    fill: var(--fill-color);\n",
              "    height: 32px;\n",
              "    padding: 0;\n",
              "    width: 32px;\n",
              "  }\n",
              "\n",
              "  .colab-df-quickchart:hover {\n",
              "    background-color: var(--hover-bg-color);\n",
              "    box-shadow: 0 1px 2px rgba(60, 64, 67, 0.3), 0 1px 3px 1px rgba(60, 64, 67, 0.15);\n",
              "    fill: var(--button-hover-fill-color);\n",
              "  }\n",
              "\n",
              "  .colab-df-quickchart-complete:disabled,\n",
              "  .colab-df-quickchart-complete:disabled:hover {\n",
              "    background-color: var(--disabled-bg-color);\n",
              "    fill: var(--disabled-fill-color);\n",
              "    box-shadow: none;\n",
              "  }\n",
              "\n",
              "  .colab-df-spinner {\n",
              "    border: 2px solid var(--fill-color);\n",
              "    border-color: transparent;\n",
              "    border-bottom-color: var(--fill-color);\n",
              "    animation:\n",
              "      spin 1s steps(1) infinite;\n",
              "  }\n",
              "\n",
              "  @keyframes spin {\n",
              "    0% {\n",
              "      border-color: transparent;\n",
              "      border-bottom-color: var(--fill-color);\n",
              "      border-left-color: var(--fill-color);\n",
              "    }\n",
              "    20% {\n",
              "      border-color: transparent;\n",
              "      border-left-color: var(--fill-color);\n",
              "      border-top-color: var(--fill-color);\n",
              "    }\n",
              "    30% {\n",
              "      border-color: transparent;\n",
              "      border-left-color: var(--fill-color);\n",
              "      border-top-color: var(--fill-color);\n",
              "      border-right-color: var(--fill-color);\n",
              "    }\n",
              "    40% {\n",
              "      border-color: transparent;\n",
              "      border-right-color: var(--fill-color);\n",
              "      border-top-color: var(--fill-color);\n",
              "    }\n",
              "    60% {\n",
              "      border-color: transparent;\n",
              "      border-right-color: var(--fill-color);\n",
              "    }\n",
              "    80% {\n",
              "      border-color: transparent;\n",
              "      border-right-color: var(--fill-color);\n",
              "      border-bottom-color: var(--fill-color);\n",
              "    }\n",
              "    90% {\n",
              "      border-color: transparent;\n",
              "      border-bottom-color: var(--fill-color);\n",
              "    }\n",
              "  }\n",
              "</style>\n",
              "\n",
              "  <script>\n",
              "    async function quickchart(key) {\n",
              "      const quickchartButtonEl =\n",
              "        document.querySelector('#' + key + ' button');\n",
              "      quickchartButtonEl.disabled = true;  // To prevent multiple clicks.\n",
              "      quickchartButtonEl.classList.add('colab-df-spinner');\n",
              "      try {\n",
              "        const charts = await google.colab.kernel.invokeFunction(\n",
              "            'suggestCharts', [key], {});\n",
              "      } catch (error) {\n",
              "        console.error('Error during call to suggestCharts:', error);\n",
              "      }\n",
              "      quickchartButtonEl.classList.remove('colab-df-spinner');\n",
              "      quickchartButtonEl.classList.add('colab-df-quickchart-complete');\n",
              "    }\n",
              "    (() => {\n",
              "      let quickchartButtonEl =\n",
              "        document.querySelector('#df-7b132b05-86be-4cab-9324-54d35e96d859 button');\n",
              "      quickchartButtonEl.style.display =\n",
              "        google.colab.kernel.accessAllowed ? 'block' : 'none';\n",
              "    })();\n",
              "  </script>\n",
              "</div>\n",
              "\n",
              "    </div>\n",
              "  </div>\n"
            ],
            "application/vnd.google.colaboratory.intrinsic+json": {
              "type": "dataframe",
              "variable_name": "BASE_CARTAO"
            }
          },
          "metadata": {},
          "execution_count": 24
        }
      ]
    },
    {
      "cell_type": "markdown",
      "source": [
        "# 2) Modelo em Keras"
      ],
      "metadata": {
        "id": "sLBXSuHAJic9"
      }
    },
    {
      "cell_type": "markdown",
      "source": [
        "Um modelo sequencial em Keras é uma forma simples de criar redes neurais. Ele permite construir uma pilha linear de camadas, onde cada camada tem exatamente uma entrada e uma saída.\n",
        "\n"
      ],
      "metadata": {
        "id": "GPDiP2xDXqI4"
      }
    },
    {
      "cell_type": "markdown",
      "source": [
        "## 2.1) Preparação dos Dados"
      ],
      "metadata": {
        "id": "VoJt7FrETVnM"
      }
    },
    {
      "cell_type": "markdown",
      "source": [
        "Inicialmente é realizada a remoção da coluna \"Class\" e o armazenamento do restante das features em X. Essas features são os atributos que o modelo utilizará para fazer as previsões. Já em y é armazenada a coluna \"Class\", que representa o rótulo a ser previsto (fraude ou não).\n"
      ],
      "metadata": {
        "id": "AnfaMUnmY_D5"
      }
    },
    {
      "cell_type": "code",
      "source": [
        "X = BASE_CARTAO.drop(columns=['Class'])\n",
        "y = BASE_CARTAO['Class']"
      ],
      "metadata": {
        "id": "dbcnN9mXK9Im"
      },
      "execution_count": 38,
      "outputs": []
    },
    {
      "cell_type": "markdown",
      "source": [
        "**Dividindo os dados em conjunto de treino e teste**"
      ],
      "metadata": {
        "id": "j04tOF6OTYf4"
      }
    },
    {
      "cell_type": "markdown",
      "source": [
        "É realizada a divisão de X e y em conjuntos de treino (80%) e teste (20%), garantindo a mesma proporção de fraudes e não-fraudes em ambos."
      ],
      "metadata": {
        "id": "RtAW-8v3ZpTV"
      }
    },
    {
      "cell_type": "code",
      "source": [
        "X_train, X_test, y_train, y_test = train_test_split(X, y, test_size=0.2, random_state=42, stratify=y)"
      ],
      "metadata": {
        "id": "rTOmjImoLGmI"
      },
      "execution_count": 39,
      "outputs": []
    },
    {
      "cell_type": "markdown",
      "source": [
        "**Normalizando as features**"
      ],
      "metadata": {
        "id": "_zHdeNWlTdK1"
      }
    },
    {
      "cell_type": "markdown",
      "source": [
        "É realizada a normalização das features para que tenham média 0 e desvio padrão 1, melhorando a performance do modelo."
      ],
      "metadata": {
        "id": "ozRrs2HjZ810"
      }
    },
    {
      "cell_type": "code",
      "source": [
        "scaler = StandardScaler()\n",
        "X_train = scaler.fit_transform(X_train)\n",
        "X_test = scaler.transform(X_test)"
      ],
      "metadata": {
        "id": "0irL6s91LJqL"
      },
      "execution_count": 40,
      "outputs": []
    },
    {
      "cell_type": "markdown",
      "source": [
        "## 2.2) Construindo o modelo"
      ],
      "metadata": {
        "id": "gAIRbRlSTgqv"
      }
    },
    {
      "cell_type": "markdown",
      "source": [
        "Abaixo é criado um modelo sequencial simples, onde é adicionada uma camada densa com 1 neurônio e ativação sigmoide para prever a probabilidade de fraude."
      ],
      "metadata": {
        "id": "zQILGzFLaFiX"
      }
    },
    {
      "cell_type": "code",
      "source": [
        "model = Sequential()\n",
        "model.add(Dense(1, input_shape=(X_train.shape[1],), activation='sigmoid'))"
      ],
      "metadata": {
        "colab": {
          "base_uri": "https://localhost:8080/"
        },
        "id": "g8ajS4ubLsHt",
        "outputId": "313ac88e-41fd-4172-a3a1-d9f4376dba0c"
      },
      "execution_count": 41,
      "outputs": [
        {
          "output_type": "stream",
          "name": "stderr",
          "text": [
            "/usr/local/lib/python3.10/dist-packages/keras/src/layers/core/dense.py:87: UserWarning: Do not pass an `input_shape`/`input_dim` argument to a layer. When using Sequential models, prefer using an `Input(shape)` object as the first layer in the model instead.\n",
            "  super().__init__(activity_regularizer=activity_regularizer, **kwargs)\n"
          ]
        }
      ]
    },
    {
      "cell_type": "markdown",
      "source": [
        "**Compilando o modelo**"
      ],
      "metadata": {
        "id": "6JiIWX5aTh6L"
      }
    },
    {
      "cell_type": "markdown",
      "source": [
        "Abaixo é definido o otimizador Adam, a função de perda binária (binary_crossentropy), e as métricas de avaliação."
      ],
      "metadata": {
        "id": "Nq4zztHWaW6Y"
      }
    },
    {
      "cell_type": "code",
      "source": [
        "model.compile(optimizer=Adam(), loss='binary_crossentropy', metrics=['accuracy', AUC(name='AUC')])"
      ],
      "metadata": {
        "id": "d62FLDX_LuuW"
      },
      "execution_count": 42,
      "outputs": []
    },
    {
      "cell_type": "markdown",
      "source": [
        "**Treinando o modelo**"
      ],
      "metadata": {
        "id": "OEV-lO6ETkNE"
      }
    },
    {
      "cell_type": "markdown",
      "source": [
        "O modelo é treinado por 50 épocas com batch size 10, usando 20% do treino para validação."
      ],
      "metadata": {
        "id": "lsvU9yq4aggt"
      }
    },
    {
      "cell_type": "code",
      "source": [
        "model.fit(X_train, y_train, epochs=50, batch_size=10, validation_split=0.2)"
      ],
      "metadata": {
        "colab": {
          "base_uri": "https://localhost:8080/"
        },
        "id": "S1wVjMg2LxLv",
        "outputId": "1c0728d8-177b-43ef-80ac-887934d62791"
      },
      "execution_count": 43,
      "outputs": [
        {
          "output_type": "stream",
          "name": "stdout",
          "text": [
            "Epoch 1/50\n",
            "\u001b[1m7991/7991\u001b[0m \u001b[32m━━━━━━━━━━━━━━━━━━━━\u001b[0m\u001b[37m\u001b[0m \u001b[1m24s\u001b[0m 3ms/step - AUC: 0.7983 - accuracy: 0.8859 - loss: 0.3394 - val_AUC: 0.9697 - val_accuracy: 0.9988 - val_loss: 0.0159\n",
            "Epoch 2/50\n",
            "\u001b[1m7991/7991\u001b[0m \u001b[32m━━━━━━━━━━━━━━━━━━━━\u001b[0m\u001b[37m\u001b[0m \u001b[1m36s\u001b[0m 2ms/step - AUC: 0.9653 - accuracy: 0.9987 - loss: 0.0112 - val_AUC: 0.9550 - val_accuracy: 0.9989 - val_loss: 0.0067\n",
            "Epoch 3/50\n",
            "\u001b[1m7991/7991\u001b[0m \u001b[32m━━━━━━━━━━━━━━━━━━━━\u001b[0m\u001b[37m\u001b[0m \u001b[1m19s\u001b[0m 2ms/step - AUC: 0.9434 - accuracy: 0.9987 - loss: 0.0064 - val_AUC: 0.9551 - val_accuracy: 0.9989 - val_loss: 0.0060\n",
            "Epoch 4/50\n",
            "\u001b[1m7991/7991\u001b[0m \u001b[32m━━━━━━━━━━━━━━━━━━━━\u001b[0m\u001b[37m\u001b[0m \u001b[1m29s\u001b[0m 4ms/step - AUC: 0.9499 - accuracy: 0.9988 - loss: 0.0059 - val_AUC: 0.9550 - val_accuracy: 0.9990 - val_loss: 0.0060\n",
            "Epoch 5/50\n",
            "\u001b[1m7991/7991\u001b[0m \u001b[32m━━━━━━━━━━━━━━━━━━━━\u001b[0m\u001b[37m\u001b[0m \u001b[1m29s\u001b[0m 2ms/step - AUC: 0.9462 - accuracy: 0.9990 - loss: 0.0045 - val_AUC: 0.9552 - val_accuracy: 0.9991 - val_loss: 0.0062\n",
            "Epoch 6/50\n",
            "\u001b[1m7991/7991\u001b[0m \u001b[32m━━━━━━━━━━━━━━━━━━━━\u001b[0m\u001b[37m\u001b[0m \u001b[1m15s\u001b[0m 2ms/step - AUC: 0.9327 - accuracy: 0.9991 - loss: 0.0047 - val_AUC: 0.9549 - val_accuracy: 0.9989 - val_loss: 0.0053\n",
            "Epoch 7/50\n",
            "\u001b[1m7991/7991\u001b[0m \u001b[32m━━━━━━━━━━━━━━━━━━━━\u001b[0m\u001b[37m\u001b[0m \u001b[1m23s\u001b[0m 2ms/step - AUC: 0.9235 - accuracy: 0.9989 - loss: 0.0055 - val_AUC: 0.9550 - val_accuracy: 0.9991 - val_loss: 0.0058\n",
            "Epoch 8/50\n",
            "\u001b[1m7991/7991\u001b[0m \u001b[32m━━━━━━━━━━━━━━━━━━━━\u001b[0m\u001b[37m\u001b[0m \u001b[1m19s\u001b[0m 2ms/step - AUC: 0.9185 - accuracy: 0.9988 - loss: 0.0056 - val_AUC: 0.9549 - val_accuracy: 0.9990 - val_loss: 0.0055\n",
            "Epoch 9/50\n",
            "\u001b[1m7991/7991\u001b[0m \u001b[32m━━━━━━━━━━━━━━━━━━━━\u001b[0m\u001b[37m\u001b[0m \u001b[1m20s\u001b[0m 2ms/step - AUC: 0.9445 - accuracy: 0.9991 - loss: 0.0047 - val_AUC: 0.9403 - val_accuracy: 0.9990 - val_loss: 0.0056\n",
            "Epoch 10/50\n",
            "\u001b[1m7991/7991\u001b[0m \u001b[32m━━━━━━━━━━━━━━━━━━━━\u001b[0m\u001b[37m\u001b[0m \u001b[1m20s\u001b[0m 2ms/step - AUC: 0.9045 - accuracy: 0.9989 - loss: 0.0051 - val_AUC: 0.9549 - val_accuracy: 0.9991 - val_loss: 0.0058\n",
            "Epoch 11/50\n",
            "\u001b[1m7991/7991\u001b[0m \u001b[32m━━━━━━━━━━━━━━━━━━━━\u001b[0m\u001b[37m\u001b[0m \u001b[1m22s\u001b[0m 3ms/step - AUC: 0.9164 - accuracy: 0.9987 - loss: 0.0061 - val_AUC: 0.9549 - val_accuracy: 0.9990 - val_loss: 0.0061\n",
            "Epoch 12/50\n",
            "\u001b[1m7991/7991\u001b[0m \u001b[32m━━━━━━━━━━━━━━━━━━━━\u001b[0m\u001b[37m\u001b[0m \u001b[1m34s\u001b[0m 2ms/step - AUC: 0.9562 - accuracy: 0.9989 - loss: 0.0049 - val_AUC: 0.9548 - val_accuracy: 0.9991 - val_loss: 0.0058\n",
            "Epoch 13/50\n",
            "\u001b[1m7991/7991\u001b[0m \u001b[32m━━━━━━━━━━━━━━━━━━━━\u001b[0m\u001b[37m\u001b[0m \u001b[1m15s\u001b[0m 2ms/step - AUC: 0.9491 - accuracy: 0.9987 - loss: 0.0063 - val_AUC: 0.9548 - val_accuracy: 0.9990 - val_loss: 0.0055\n",
            "Epoch 14/50\n",
            "\u001b[1m7991/7991\u001b[0m \u001b[32m━━━━━━━━━━━━━━━━━━━━\u001b[0m\u001b[37m\u001b[0m \u001b[1m15s\u001b[0m 2ms/step - AUC: 0.9432 - accuracy: 0.9988 - loss: 0.0053 - val_AUC: 0.9402 - val_accuracy: 0.9989 - val_loss: 0.0049\n",
            "Epoch 15/50\n",
            "\u001b[1m7991/7991\u001b[0m \u001b[32m━━━━━━━━━━━━━━━━━━━━\u001b[0m\u001b[37m\u001b[0m \u001b[1m22s\u001b[0m 2ms/step - AUC: 0.9461 - accuracy: 0.9988 - loss: 0.0055 - val_AUC: 0.9402 - val_accuracy: 0.9991 - val_loss: 0.0054\n",
            "Epoch 16/50\n",
            "\u001b[1m7991/7991\u001b[0m \u001b[32m━━━━━━━━━━━━━━━━━━━━\u001b[0m\u001b[37m\u001b[0m \u001b[1m20s\u001b[0m 2ms/step - AUC: 0.9085 - accuracy: 0.9987 - loss: 0.0061 - val_AUC: 0.9402 - val_accuracy: 0.9990 - val_loss: 0.0053\n",
            "Epoch 17/50\n",
            "\u001b[1m7991/7991\u001b[0m \u001b[32m━━━━━━━━━━━━━━━━━━━━\u001b[0m\u001b[37m\u001b[0m \u001b[1m14s\u001b[0m 2ms/step - AUC: 0.9473 - accuracy: 0.9989 - loss: 0.0050 - val_AUC: 0.9402 - val_accuracy: 0.9990 - val_loss: 0.0053\n",
            "Epoch 18/50\n",
            "\u001b[1m7991/7991\u001b[0m \u001b[32m━━━━━━━━━━━━━━━━━━━━\u001b[0m\u001b[37m\u001b[0m \u001b[1m15s\u001b[0m 2ms/step - AUC: 0.9482 - accuracy: 0.9989 - loss: 0.0051 - val_AUC: 0.9402 - val_accuracy: 0.9991 - val_loss: 0.0055\n",
            "Epoch 19/50\n",
            "\u001b[1m7991/7991\u001b[0m \u001b[32m━━━━━━━━━━━━━━━━━━━━\u001b[0m\u001b[37m\u001b[0m \u001b[1m20s\u001b[0m 2ms/step - AUC: 0.8923 - accuracy: 0.9990 - loss: 0.0053 - val_AUC: 0.9403 - val_accuracy: 0.9991 - val_loss: 0.0055\n",
            "Epoch 20/50\n",
            "\u001b[1m7991/7991\u001b[0m \u001b[32m━━━━━━━━━━━━━━━━━━━━\u001b[0m\u001b[37m\u001b[0m \u001b[1m21s\u001b[0m 2ms/step - AUC: 0.9362 - accuracy: 0.9989 - loss: 0.0050 - val_AUC: 0.9402 - val_accuracy: 0.9990 - val_loss: 0.0054\n",
            "Epoch 21/50\n",
            "\u001b[1m7991/7991\u001b[0m \u001b[32m━━━━━━━━━━━━━━━━━━━━\u001b[0m\u001b[37m\u001b[0m \u001b[1m15s\u001b[0m 2ms/step - AUC: 0.9189 - accuracy: 0.9990 - loss: 0.0050 - val_AUC: 0.9402 - val_accuracy: 0.9990 - val_loss: 0.0050\n",
            "Epoch 22/50\n",
            "\u001b[1m7991/7991\u001b[0m \u001b[32m━━━━━━━━━━━━━━━━━━━━\u001b[0m\u001b[37m\u001b[0m \u001b[1m21s\u001b[0m 2ms/step - AUC: 0.9344 - accuracy: 0.9988 - loss: 0.0059 - val_AUC: 0.9402 - val_accuracy: 0.9990 - val_loss: 0.0051\n",
            "Epoch 23/50\n",
            "\u001b[1m7991/7991\u001b[0m \u001b[32m━━━━━━━━━━━━━━━━━━━━\u001b[0m\u001b[37m\u001b[0m \u001b[1m21s\u001b[0m 2ms/step - AUC: 0.9495 - accuracy: 0.9988 - loss: 0.0052 - val_AUC: 0.9549 - val_accuracy: 0.9991 - val_loss: 0.0062\n",
            "Epoch 24/50\n",
            "\u001b[1m7991/7991\u001b[0m \u001b[32m━━━━━━━━━━━━━━━━━━━━\u001b[0m\u001b[37m\u001b[0m \u001b[1m19s\u001b[0m 2ms/step - AUC: 0.9230 - accuracy: 0.9989 - loss: 0.0052 - val_AUC: 0.9402 - val_accuracy: 0.9990 - val_loss: 0.0053\n",
            "Epoch 25/50\n",
            "\u001b[1m7991/7991\u001b[0m \u001b[32m━━━━━━━━━━━━━━━━━━━━\u001b[0m\u001b[37m\u001b[0m \u001b[1m15s\u001b[0m 2ms/step - AUC: 0.9161 - accuracy: 0.9987 - loss: 0.0060 - val_AUC: 0.9402 - val_accuracy: 0.9991 - val_loss: 0.0054\n",
            "Epoch 26/50\n",
            "\u001b[1m7991/7991\u001b[0m \u001b[32m━━━━━━━━━━━━━━━━━━━━\u001b[0m\u001b[37m\u001b[0m \u001b[1m15s\u001b[0m 2ms/step - AUC: 0.9194 - accuracy: 0.9991 - loss: 0.0046 - val_AUC: 0.9401 - val_accuracy: 0.9990 - val_loss: 0.0057\n",
            "Epoch 27/50\n",
            "\u001b[1m7991/7991\u001b[0m \u001b[32m━━━━━━━━━━━━━━━━━━━━\u001b[0m\u001b[37m\u001b[0m \u001b[1m21s\u001b[0m 2ms/step - AUC: 0.9310 - accuracy: 0.9988 - loss: 0.0060 - val_AUC: 0.9547 - val_accuracy: 0.9991 - val_loss: 0.0055\n",
            "Epoch 28/50\n",
            "\u001b[1m7991/7991\u001b[0m \u001b[32m━━━━━━━━━━━━━━━━━━━━\u001b[0m\u001b[37m\u001b[0m \u001b[1m20s\u001b[0m 2ms/step - AUC: 0.9479 - accuracy: 0.9988 - loss: 0.0057 - val_AUC: 0.9402 - val_accuracy: 0.9991 - val_loss: 0.0055\n",
            "Epoch 29/50\n",
            "\u001b[1m7991/7991\u001b[0m \u001b[32m━━━━━━━━━━━━━━━━━━━━\u001b[0m\u001b[37m\u001b[0m \u001b[1m21s\u001b[0m 2ms/step - AUC: 0.9224 - accuracy: 0.9990 - loss: 0.0053 - val_AUC: 0.9402 - val_accuracy: 0.9990 - val_loss: 0.0053\n",
            "Epoch 30/50\n",
            "\u001b[1m7991/7991\u001b[0m \u001b[32m━━━━━━━━━━━━━━━━━━━━\u001b[0m\u001b[37m\u001b[0m \u001b[1m22s\u001b[0m 2ms/step - AUC: 0.9497 - accuracy: 0.9987 - loss: 0.0053 - val_AUC: 0.9402 - val_accuracy: 0.9991 - val_loss: 0.0056\n",
            "Epoch 31/50\n",
            "\u001b[1m7991/7991\u001b[0m \u001b[32m━━━━━━━━━━━━━━━━━━━━\u001b[0m\u001b[37m\u001b[0m \u001b[1m19s\u001b[0m 2ms/step - AUC: 0.9285 - accuracy: 0.9987 - loss: 0.0059 - val_AUC: 0.9402 - val_accuracy: 0.9991 - val_loss: 0.0054\n",
            "Epoch 32/50\n",
            "\u001b[1m7991/7991\u001b[0m \u001b[32m━━━━━━━━━━━━━━━━━━━━\u001b[0m\u001b[37m\u001b[0m \u001b[1m20s\u001b[0m 2ms/step - AUC: 0.9318 - accuracy: 0.9991 - loss: 0.0048 - val_AUC: 0.9401 - val_accuracy: 0.9989 - val_loss: 0.0049\n",
            "Epoch 33/50\n",
            "\u001b[1m7991/7991\u001b[0m \u001b[32m━━━━━━━━━━━━━━━━━━━━\u001b[0m\u001b[37m\u001b[0m \u001b[1m21s\u001b[0m 2ms/step - AUC: 0.9390 - accuracy: 0.9989 - loss: 0.0052 - val_AUC: 0.9401 - val_accuracy: 0.9990 - val_loss: 0.0056\n",
            "Epoch 34/50\n",
            "\u001b[1m7991/7991\u001b[0m \u001b[32m━━━━━━━━━━━━━━━━━━━━\u001b[0m\u001b[37m\u001b[0m \u001b[1m15s\u001b[0m 2ms/step - AUC: 0.9195 - accuracy: 0.9989 - loss: 0.0050 - val_AUC: 0.9548 - val_accuracy: 0.9990 - val_loss: 0.0062\n",
            "Epoch 35/50\n",
            "\u001b[1m7991/7991\u001b[0m \u001b[32m━━━━━━━━━━━━━━━━━━━━\u001b[0m\u001b[37m\u001b[0m \u001b[1m21s\u001b[0m 2ms/step - AUC: 0.9181 - accuracy: 0.9989 - loss: 0.0054 - val_AUC: 0.9401 - val_accuracy: 0.9991 - val_loss: 0.0058\n",
            "Epoch 36/50\n",
            "\u001b[1m7991/7991\u001b[0m \u001b[32m━━━━━━━━━━━━━━━━━━━━\u001b[0m\u001b[37m\u001b[0m \u001b[1m15s\u001b[0m 2ms/step - AUC: 0.9380 - accuracy: 0.9988 - loss: 0.0057 - val_AUC: 0.9402 - val_accuracy: 0.9988 - val_loss: 0.0050\n",
            "Epoch 37/50\n",
            "\u001b[1m7991/7991\u001b[0m \u001b[32m━━━━━━━━━━━━━━━━━━━━\u001b[0m\u001b[37m\u001b[0m \u001b[1m15s\u001b[0m 2ms/step - AUC: 0.9399 - accuracy: 0.9989 - loss: 0.0052 - val_AUC: 0.9402 - val_accuracy: 0.9991 - val_loss: 0.0055\n",
            "Epoch 38/50\n",
            "\u001b[1m7991/7991\u001b[0m \u001b[32m━━━━━━━━━━━━━━━━━━━━\u001b[0m\u001b[37m\u001b[0m \u001b[1m22s\u001b[0m 2ms/step - AUC: 0.9300 - accuracy: 0.9989 - loss: 0.0054 - val_AUC: 0.9401 - val_accuracy: 0.9990 - val_loss: 0.0050\n",
            "Epoch 39/50\n",
            "\u001b[1m7991/7991\u001b[0m \u001b[32m━━━━━━━━━━━━━━━━━━━━\u001b[0m\u001b[37m\u001b[0m \u001b[1m19s\u001b[0m 2ms/step - AUC: 0.9155 - accuracy: 0.9987 - loss: 0.0060 - val_AUC: 0.9547 - val_accuracy: 0.9991 - val_loss: 0.0056\n",
            "Epoch 40/50\n",
            "\u001b[1m7991/7991\u001b[0m \u001b[32m━━━━━━━━━━━━━━━━━━━━\u001b[0m\u001b[37m\u001b[0m \u001b[1m15s\u001b[0m 2ms/step - AUC: 0.9569 - accuracy: 0.9992 - loss: 0.0040 - val_AUC: 0.9401 - val_accuracy: 0.9990 - val_loss: 0.0053\n",
            "Epoch 41/50\n",
            "\u001b[1m7991/7991\u001b[0m \u001b[32m━━━━━━━━━━━━━━━━━━━━\u001b[0m\u001b[37m\u001b[0m \u001b[1m21s\u001b[0m 2ms/step - AUC: 0.9072 - accuracy: 0.9987 - loss: 0.0061 - val_AUC: 0.9401 - val_accuracy: 0.9991 - val_loss: 0.0052\n",
            "Epoch 42/50\n",
            "\u001b[1m7991/7991\u001b[0m \u001b[32m━━━━━━━━━━━━━━━━━━━━\u001b[0m\u001b[37m\u001b[0m \u001b[1m20s\u001b[0m 2ms/step - AUC: 0.9431 - accuracy: 0.9990 - loss: 0.0047 - val_AUC: 0.9401 - val_accuracy: 0.9991 - val_loss: 0.0059\n",
            "Epoch 43/50\n",
            "\u001b[1m7991/7991\u001b[0m \u001b[32m━━━━━━━━━━━━━━━━━━━━\u001b[0m\u001b[37m\u001b[0m \u001b[1m20s\u001b[0m 2ms/step - AUC: 0.9056 - accuracy: 0.9987 - loss: 0.0059 - val_AUC: 0.9401 - val_accuracy: 0.9990 - val_loss: 0.0049\n",
            "Epoch 44/50\n",
            "\u001b[1m7991/7991\u001b[0m \u001b[32m━━━━━━━━━━━━━━━━━━━━\u001b[0m\u001b[37m\u001b[0m \u001b[1m22s\u001b[0m 2ms/step - AUC: 0.9282 - accuracy: 0.9987 - loss: 0.0056 - val_AUC: 0.9401 - val_accuracy: 0.9991 - val_loss: 0.0052\n",
            "Epoch 45/50\n",
            "\u001b[1m7991/7991\u001b[0m \u001b[32m━━━━━━━━━━━━━━━━━━━━\u001b[0m\u001b[37m\u001b[0m \u001b[1m18s\u001b[0m 2ms/step - AUC: 0.9409 - accuracy: 0.9989 - loss: 0.0052 - val_AUC: 0.9400 - val_accuracy: 0.9990 - val_loss: 0.0061\n",
            "Epoch 46/50\n",
            "\u001b[1m7991/7991\u001b[0m \u001b[32m━━━━━━━━━━━━━━━━━━━━\u001b[0m\u001b[37m\u001b[0m \u001b[1m18s\u001b[0m 2ms/step - AUC: 0.9415 - accuracy: 0.9989 - loss: 0.0054 - val_AUC: 0.9547 - val_accuracy: 0.9990 - val_loss: 0.0063\n",
            "Epoch 47/50\n",
            "\u001b[1m7991/7991\u001b[0m \u001b[32m━━━━━━━━━━━━━━━━━━━━\u001b[0m\u001b[37m\u001b[0m \u001b[1m16s\u001b[0m 2ms/step - AUC: 0.9342 - accuracy: 0.9989 - loss: 0.0058 - val_AUC: 0.9401 - val_accuracy: 0.9990 - val_loss: 0.0056\n",
            "Epoch 48/50\n",
            "\u001b[1m7991/7991\u001b[0m \u001b[32m━━━━━━━━━━━━━━━━━━━━\u001b[0m\u001b[37m\u001b[0m \u001b[1m15s\u001b[0m 2ms/step - AUC: 0.9353 - accuracy: 0.9988 - loss: 0.0053 - val_AUC: 0.9401 - val_accuracy: 0.9990 - val_loss: 0.0054\n",
            "Epoch 49/50\n",
            "\u001b[1m7991/7991\u001b[0m \u001b[32m━━━━━━━━━━━━━━━━━━━━\u001b[0m\u001b[37m\u001b[0m \u001b[1m15s\u001b[0m 2ms/step - AUC: 0.9145 - accuracy: 0.9990 - loss: 0.0048 - val_AUC: 0.9401 - val_accuracy: 0.9991 - val_loss: 0.0055\n",
            "Epoch 50/50\n",
            "\u001b[1m7991/7991\u001b[0m \u001b[32m━━━━━━━━━━━━━━━━━━━━\u001b[0m\u001b[37m\u001b[0m \u001b[1m15s\u001b[0m 2ms/step - AUC: 0.9436 - accuracy: 0.9989 - loss: 0.0046 - val_AUC: 0.9401 - val_accuracy: 0.9989 - val_loss: 0.0051\n"
          ]
        },
        {
          "output_type": "execute_result",
          "data": {
            "text/plain": [
              "<keras.src.callbacks.history.History at 0x797d35b59060>"
            ]
          },
          "metadata": {},
          "execution_count": 43
        }
      ]
    },
    {
      "cell_type": "markdown",
      "source": [
        "## 2.3) Teste do Modelo"
      ],
      "metadata": {
        "id": "GKOtC3g1UhDq"
      }
    },
    {
      "cell_type": "markdown",
      "source": [
        "**Prevendo os rótulos do conjunto de teste**"
      ],
      "metadata": {
        "id": "i4kQKOFLT2Ou"
      }
    },
    {
      "cell_type": "markdown",
      "source": [
        "Abaixo são geradas as previsões no conjunto de teste."
      ],
      "metadata": {
        "id": "t8OoY55paqsg"
      }
    },
    {
      "cell_type": "code",
      "source": [
        "y_pred = model.predict(X_test)\n",
        "y_pred_labels = (y_pred > 0.5).astype(int)"
      ],
      "metadata": {
        "colab": {
          "base_uri": "https://localhost:8080/"
        },
        "id": "PJyv1VnML3Op",
        "outputId": "f3103106-d040-44ab-eff6-271e54ddbe0d"
      },
      "execution_count": 44,
      "outputs": [
        {
          "output_type": "stream",
          "name": "stdout",
          "text": [
            "\u001b[1m781/781\u001b[0m \u001b[32m━━━━━━━━━━━━━━━━━━━━\u001b[0m\u001b[37m\u001b[0m \u001b[1m2s\u001b[0m 2ms/step\n"
          ]
        }
      ]
    },
    {
      "cell_type": "markdown",
      "source": [
        "**Calculando a acurácia e a métrica F1**"
      ],
      "metadata": {
        "id": "v7Kor_rQT5BH"
      }
    },
    {
      "cell_type": "markdown",
      "source": [
        "Acurácia: Indica a porcentagem de previsões corretas em relação ao total de previsões feitas."
      ],
      "metadata": {
        "id": "WqqOHtlhT9wB"
      }
    },
    {
      "cell_type": "code",
      "source": [
        "accuracy = accuracy_score(y_test, y_pred_labels)"
      ],
      "metadata": {
        "id": "HUQZM8mLMMU7"
      },
      "execution_count": 45,
      "outputs": []
    },
    {
      "cell_type": "code",
      "source": [
        "accuracy"
      ],
      "metadata": {
        "colab": {
          "base_uri": "https://localhost:8080/"
        },
        "id": "1gmFCE7SRBVv",
        "outputId": "5713d95d-c145-42ae-c778-3b32d796f890"
      },
      "execution_count": 47,
      "outputs": [
        {
          "output_type": "execute_result",
          "data": {
            "text/plain": [
              "0.9985984302418709"
            ]
          },
          "metadata": {},
          "execution_count": 47
        }
      ]
    },
    {
      "cell_type": "markdown",
      "source": [
        "Métrica F1: Considera tanto a precisão quanto o recall, sendo especialmente útil para avaliar modelos em datasets desbalanceados. Uma alta métrica F1 indica que o modelo tem um bom equilíbrio entre falsos positivos e falsos negativos."
      ],
      "metadata": {
        "id": "7u9ozn6AUC-G"
      }
    },
    {
      "cell_type": "code",
      "source": [
        "f1 = f1_score(y_test, y_pred_labels)"
      ],
      "metadata": {
        "id": "Csr4uk1SMN0h"
      },
      "execution_count": 46,
      "outputs": []
    },
    {
      "cell_type": "code",
      "source": [
        "f1"
      ],
      "metadata": {
        "colab": {
          "base_uri": "https://localhost:8080/"
        },
        "id": "NmDDm8zFRDPG",
        "outputId": "77c34db4-ae4d-4c6b-ccc9-b1e6206684e3"
      },
      "execution_count": 48,
      "outputs": [
        {
          "output_type": "execute_result",
          "data": {
            "text/plain": [
              "0.5977011494252874"
            ]
          },
          "metadata": {},
          "execution_count": 48
        }
      ]
    },
    {
      "cell_type": "markdown",
      "source": [
        "# 3) Interpretação dos Resultados"
      ],
      "metadata": {
        "id": "DdRs3s9FUJWt"
      }
    },
    {
      "cell_type": "markdown",
      "source": [
        "**Desempenho do Modelo**"
      ],
      "metadata": {
        "id": "HYzfWB2PbCAu"
      }
    },
    {
      "cell_type": "markdown",
      "source": [
        "\n",
        "\n",
        "*   **Acurácia**: O modelo apresentou uma acurácia de 99.86%. Isso significa que, na maioria dos casos, o modelo foi capaz de classificar corretamente as transações como fraudulentas ou legítimas.\n",
        "\n",
        "* **Métrica F1**: a métrica F1 é relativamente baixa, com um valor de 0.5977. A métrica F1 é uma medida mais robusta em cenários de classes desbalanceadas, como este, onde a classe de interesse (fraude) é muito menos representada do que a classe de não-fraude. Nesse sentido, o valor baixo de F1 indica que, apesar da alta acurácia, o modelo pode estar falhando em identificar transações fraudulentas (falsos negativos) ou está marcando transações legítimas como fraudulentas (falsos positivos).\n",
        "\n",
        "* **AUC**: durante o treinamento oscilou ao redor de 0.94-0.95, o que é um bom indicador de que o modelo é capaz de distinguir entre as classes. No entanto, esse valor não se reflete em uma alta métrica F1, sugerindo que o modelo pode estar mais focado em maximizar a acurácia geral, possivelmente à custa de uma detecção precisa da classe minoritária (fraude).\n",
        "\n"
      ],
      "metadata": {
        "id": "6xvUFDJVbHJ8"
      }
    },
    {
      "cell_type": "markdown",
      "source": [
        "**Possíveis Melhorias**"
      ],
      "metadata": {
        "id": "KPdvjFB2b_sA"
      }
    },
    {
      "cell_type": "markdown",
      "source": [
        "\n",
        "\n",
        "*   **Ajuste de Hiperparâmetros**: Experimentar diferentes taxas de aprendizado, número de camadas, e unidades por camada para encontrar um balanço melhor entre precisão e recall.\n",
        "\n",
        "*  **Ajustar a Amostra de Dados**: Aumentar o número de amostras da classe minoritária (fraude) para que o modelo tenha mais exemplos de fraudes para aprender ou reduzir o número de amostras da classe majoritária (não-fraude) para evitar que o modelo seja tendencioso em favor da classe majoritária.\n",
        "\n",
        "*   **Camadas Adicionais**: Adicionar mais camadas densas pode ajudar a capturar padrões mais complexos no conjunto de dados.\n",
        "\n"
      ],
      "metadata": {
        "id": "n9t3SWlCcDbI"
      }
    }
  ]
}